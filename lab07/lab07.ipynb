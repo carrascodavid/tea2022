{
 "cells": [
  {
   "cell_type": "code",
   "execution_count": 1,
   "id": "706fb13b",
   "metadata": {},
   "outputs": [],
   "source": [
    "# importing libraries"
   ]
  },
  {
   "cell_type": "code",
   "execution_count": 19,
   "id": "6697b481",
   "metadata": {},
   "outputs": [],
   "source": [
    "import pandas as pd"
   ]
  },
  {
   "cell_type": "code",
   "execution_count": 20,
   "id": "af574546",
   "metadata": {},
   "outputs": [],
   "source": [
    "from matplotlib import pyplot as plt"
   ]
  },
  {
   "cell_type": "code",
   "execution_count": 21,
   "id": "465d5fe9",
   "metadata": {},
   "outputs": [],
   "source": [
    "# dataframe y subiendo datos"
   ]
  },
  {
   "cell_type": "code",
   "execution_count": 32,
   "id": "1c203be5",
   "metadata": {},
   "outputs": [],
   "source": [
    "datos = pd.read_csv(\"dat2.csv\")"
   ]
  },
  {
   "cell_type": "code",
   "execution_count": 33,
   "id": "857e2415",
   "metadata": {},
   "outputs": [
    {
     "data": {
      "text/html": [
       "<div>\n",
       "<style scoped>\n",
       "    .dataframe tbody tr th:only-of-type {\n",
       "        vertical-align: middle;\n",
       "    }\n",
       "\n",
       "    .dataframe tbody tr th {\n",
       "        vertical-align: top;\n",
       "    }\n",
       "\n",
       "    .dataframe thead th {\n",
       "        text-align: right;\n",
       "    }\n",
       "</style>\n",
       "<table border=\"1\" class=\"dataframe\">\n",
       "  <thead>\n",
       "    <tr style=\"text-align: right;\">\n",
       "      <th></th>\n",
       "      <th>fertilizante</th>\n",
       "      <th>precio</th>\n",
       "      <th>cantidad_agua_ml</th>\n",
       "      <th>cantidad_ml</th>\n",
       "      <th>costo_Anual</th>\n",
       "    </tr>\n",
       "  </thead>\n",
       "  <tbody>\n",
       "    <tr>\n",
       "      <th>0</th>\n",
       "      <td>Boro</td>\n",
       "      <td>330</td>\n",
       "      <td>120</td>\n",
       "      <td>20.0</td>\n",
       "      <td>3960</td>\n",
       "    </tr>\n",
       "    <tr>\n",
       "      <th>1</th>\n",
       "      <td>Azufre</td>\n",
       "      <td>330</td>\n",
       "      <td>120</td>\n",
       "      <td>30.0</td>\n",
       "      <td>3960</td>\n",
       "    </tr>\n",
       "    <tr>\n",
       "      <th>2</th>\n",
       "      <td>Sodio</td>\n",
       "      <td>410</td>\n",
       "      <td>120</td>\n",
       "      <td>15.0</td>\n",
       "      <td>4920</td>\n",
       "    </tr>\n",
       "    <tr>\n",
       "      <th>3</th>\n",
       "      <td>Urea</td>\n",
       "      <td>715</td>\n",
       "      <td>120</td>\n",
       "      <td>5.0</td>\n",
       "      <td>8580</td>\n",
       "    </tr>\n",
       "    <tr>\n",
       "      <th>4</th>\n",
       "      <td>Nitratos</td>\n",
       "      <td>790</td>\n",
       "      <td>120</td>\n",
       "      <td>25.0</td>\n",
       "      <td>9480</td>\n",
       "    </tr>\n",
       "    <tr>\n",
       "      <th>5</th>\n",
       "      <td>Amonio</td>\n",
       "      <td>630</td>\n",
       "      <td>120</td>\n",
       "      <td>3.5</td>\n",
       "      <td>7560</td>\n",
       "    </tr>\n",
       "    <tr>\n",
       "      <th>6</th>\n",
       "      <td>Yodo</td>\n",
       "      <td>1000</td>\n",
       "      <td>120</td>\n",
       "      <td>16.0</td>\n",
       "      <td>12000</td>\n",
       "    </tr>\n",
       "    <tr>\n",
       "      <th>7</th>\n",
       "      <td>Carbono</td>\n",
       "      <td>600</td>\n",
       "      <td>120</td>\n",
       "      <td>45.9</td>\n",
       "      <td>7200</td>\n",
       "    </tr>\n",
       "    <tr>\n",
       "      <th>8</th>\n",
       "      <td>Sulfatos</td>\n",
       "      <td>790</td>\n",
       "      <td>120</td>\n",
       "      <td>16.0</td>\n",
       "      <td>9480</td>\n",
       "    </tr>\n",
       "    <tr>\n",
       "      <th>9</th>\n",
       "      <td>cloruros</td>\n",
       "      <td>410</td>\n",
       "      <td>120</td>\n",
       "      <td>20.0</td>\n",
       "      <td>4920</td>\n",
       "    </tr>\n",
       "    <tr>\n",
       "      <th>10</th>\n",
       "      <td>Fosforo</td>\n",
       "      <td>850</td>\n",
       "      <td>120</td>\n",
       "      <td>20.0</td>\n",
       "      <td>10200</td>\n",
       "    </tr>\n",
       "    <tr>\n",
       "      <th>11</th>\n",
       "      <td>pH</td>\n",
       "      <td>170</td>\n",
       "      <td>120</td>\n",
       "      <td>25.0</td>\n",
       "      <td>2040</td>\n",
       "    </tr>\n",
       "    <tr>\n",
       "      <th>12</th>\n",
       "      <td>Biuret en urea</td>\n",
       "      <td>790</td>\n",
       "      <td>120</td>\n",
       "      <td>80.0</td>\n",
       "      <td>9480</td>\n",
       "    </tr>\n",
       "    <tr>\n",
       "      <th>13</th>\n",
       "      <td>Silica</td>\n",
       "      <td>790</td>\n",
       "      <td>120</td>\n",
       "      <td>2.5</td>\n",
       "      <td>9480</td>\n",
       "    </tr>\n",
       "  </tbody>\n",
       "</table>\n",
       "</div>"
      ],
      "text/plain": [
       "      fertilizante  precio  cantidad_agua_ml  cantidad_ml  costo_Anual\n",
       "0             Boro     330               120         20.0         3960\n",
       "1           Azufre     330               120         30.0         3960\n",
       "2            Sodio     410               120         15.0         4920\n",
       "3             Urea     715               120          5.0         8580\n",
       "4         Nitratos     790               120         25.0         9480\n",
       "5           Amonio     630               120          3.5         7560\n",
       "6             Yodo    1000               120         16.0        12000\n",
       "7          Carbono     600               120         45.9         7200\n",
       "8         Sulfatos     790               120         16.0         9480\n",
       "9         cloruros     410               120         20.0         4920\n",
       "10         Fosforo     850               120         20.0        10200\n",
       "11              pH     170               120         25.0         2040\n",
       "12  Biuret en urea     790               120         80.0         9480\n",
       "13          Silica     790               120          2.5         9480"
      ]
     },
     "execution_count": 33,
     "metadata": {},
     "output_type": "execute_result"
    }
   ],
   "source": [
    "datos"
   ]
  },
  {
   "cell_type": "code",
   "execution_count": 24,
   "id": "99f6b1d8",
   "metadata": {},
   "outputs": [],
   "source": [
    "# grafico de barras"
   ]
  },
  {
   "cell_type": "code",
   "execution_count": 34,
   "id": "403209ba",
   "metadata": {},
   "outputs": [
    {
     "data": {
      "text/plain": [
       "[Text(0.5, 0, 'Fertilizantes'),\n",
       " Text(0, 0.5, 'Precios'),\n",
       " Text(0.5, 1.0, 'Precio de Fertilizantes')]"
      ]
     },
     "execution_count": 34,
     "metadata": {},
     "output_type": "execute_result"
    },
    {
     "data": {
      "image/png": "[encoded data removed]",
      "text/plain": [
       "<Figure size 640x480 with 1 Axes>"
      ]
     },
     "metadata": {},
     "output_type": "display_data"
    }
   ],
   "source": [
    "fig, ax = plt.subplots()\n",
    "ax.barh(datos.fertilizante, datos.costo_Anual)\n",
    "ax.set(xlabel=\"Fertilizantes\", ylabel=\"Precios\",\n",
    "       title=\"Precio de Fertilizantes\")"
   ]
  },
  {
   "cell_type": "code",
   "execution_count": null,
   "id": "161ebaf2",
   "metadata": {},
   "outputs": [],
   "source": []
  },
  {
   "cell_type": "code",
   "execution_count": null,
   "id": "632eeb19",
   "metadata": {},
   "outputs": [],
   "source": []
  },
  {
   "cell_type": "code",
   "execution_count": null,
   "id": "f3639f41",
   "metadata": {},
   "outputs": [],
   "source": []
  }
 ],
 "metadata": {
  "kernelspec": {
   "display_name": "Python 3 (ipykernel)",
   "language": "python",
   "name": "python3"
  },
  "language_info": {
   "codemirror_mode": {
    "name": "ipython",
    "version": 3
   },
   "file_extension": ".py",
   "mimetype": "text/x-python",
   "name": "python",
   "nbconvert_exporter": "python",
   "pygments_lexer": "ipython3",
   "version": "3.9.13"
  }
 },
 "nbformat": 4,
 "nbformat_minor": 5
}
